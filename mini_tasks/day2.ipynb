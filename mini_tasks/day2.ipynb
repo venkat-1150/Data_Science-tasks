{
  "nbformat": 4,
  "nbformat_minor": 0,
  "metadata": {
    "colab": {
      "provenance": []
    },
    "kernelspec": {
      "name": "python3",
      "display_name": "Python 3"
    },
    "language_info": {
      "name": "python"
    }
  },
  "cells": [
    {
      "cell_type": "code",
      "execution_count": 3,
      "metadata": {
        "colab": {
          "base_uri": "https://localhost:8080/"
        },
        "id": "YBBqvPsBXnGc",
        "outputId": "ad33e0b3-0ae3-4932-8a1d-51bcfc0bf78f"
      },
      "outputs": [
        {
          "output_type": "stream",
          "name": "stdout",
          "text": [
            "[3, 5, 7, 9]\n",
            "(1, 2, 3, 4, 5)\n",
            "{'name': 'Mirai', 'age': 23, 'city': 'Hyderabad', 'State': 'Telanaga'}\n"
          ]
        }
      ],
      "source": [
        "ls_1=[3,5,7,9]\n",
        "tuple_1=(1,2,3,4,5)\n",
        "dict_1={\"name\" : \"Mirai\", \"age\": 23, \"city\": \"Hyderabad\", \"State\":\"Telanaga\"}\n",
        "\n",
        "print(ls_1)\n",
        "print(tuple_1)\n",
        "print(dict_1)"
      ]
    },
    {
      "cell_type": "code",
      "source": [
        "import pandas as pd\n",
        "\n",
        "data = {\n",
        "    \"name\": [\"Ram\", \"Seetha\", \"Hanuman\", \"Laxman\"],\n",
        "    \"location\": [\"Jammu\", \"Hyderabad\", \"Bengaluru\", \"Vizag\"],\n",
        "    \"age\": [24, 22, 30, 21]\n",
        "}\n",
        "\n",
        "df = pd.DataFrame(data)\n",
        "\n",
        "df.to_csv(\"data.csv\", index=False)\n",
        "\n",
        "print(pd.read_csv(\"data.csv\"))"
      ],
      "metadata": {
        "colab": {
          "base_uri": "https://localhost:8080/"
        },
        "id": "9gFMHSg2YfnI",
        "outputId": "48a6d1fe-9e59-4b72-9ad0-65d912db5bc4"
      },
      "execution_count": 2,
      "outputs": [
        {
          "output_type": "stream",
          "name": "stdout",
          "text": [
            "      name   location  age\n",
            "0      Ram      Jammu   24\n",
            "1   Seetha  Hyderabad   22\n",
            "2  Hanuman  Bengaluru   30\n",
            "3   Laxman      Vizag   21\n"
          ]
        }
      ]
    },
    {
      "cell_type": "code",
      "source": [],
      "metadata": {
        "id": "ni4hkwKUY-tC"
      },
      "execution_count": null,
      "outputs": []
    }
  ]
}